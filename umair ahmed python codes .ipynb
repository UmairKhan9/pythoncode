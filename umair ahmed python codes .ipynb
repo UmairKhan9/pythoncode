{
 "cells": [
  {
   "cell_type": "markdown",
   "metadata": {},
   "source": [
    "# PROGRAMING EXERCISE LAB 01"
   ]
  },
  {
   "cell_type": "code",
   "execution_count": 3,
   "metadata": {},
   "outputs": [
    {
     "name": "stdout",
     "output_type": "stream",
     "text": [
      "Enter the temperature:34\n",
      "The temperature in fahrenheit is 93.2\n"
     ]
    }
   ],
   "source": [
    "#Program 1 : Write a program for converting degree centigrade to Fahrenheit.\n",
    "\n",
    "Degree_centigrade = float(input(\"Enter the temperature:\"))\n",
    "Fahrenheit = Degree_centigrade*1.8+32\n",
    "print(\"The temperature in fahrenheit is \"+str(Fahrenheit)+\"\")"
   ]
  },
  {
   "cell_type": "code",
   "execution_count": 5,
   "metadata": {},
   "outputs": [
    {
     "name": "stdout",
     "output_type": "stream",
     "text": [
      "Enter the temperature:93.2\n",
      "The temperature is celcius is 34.0\n"
     ]
    }
   ],
   "source": [
    "#Program 2 : Write a python program for converting degree fahrenheit to celcius.\n",
    "\n",
    "Degree_Fahrenheit = float(input(\"Enter the temperature:\"))\n",
    "Celcius = (Degree_Fahrenheit-32)/1.8\n",
    "print(\"The temperature is celcius is \"+str(Celcius)+\"\")"
   ]
  },
  {
   "cell_type": "code",
   "execution_count": 6,
   "metadata": {},
   "outputs": [
    {
     "name": "stdout",
     "output_type": "stream",
     "text": [
      "Enter the widht of rectangle:3\n",
      "Enter the length of rectangle:4\n",
      "The area of rectangle is 12\n"
     ]
    }
   ],
   "source": [
    "#Program 3 : Write a python program to calculate the area of rectangle.\n",
    "\n",
    "# Area of rectangle\n",
    "w = int(input(\"Enter the widht of rectangle:\"))\n",
    "l = int(input(\"Enter the length of rectangle:\"))\n",
    "Area = w*l\n",
    "print(\"The area of rectangle is \"+str(Area)+\"\")"
   ]
  },
  {
   "cell_type": "code",
   "execution_count": 13,
   "metadata": {},
   "outputs": [
    {
     "name": "stdout",
     "output_type": "stream",
     "text": [
      "The radius of the sphere:4\n",
      "The volume of the sphere is 150.79644737231007\n"
     ]
    }
   ],
   "source": [
    "#Program 4 : Write a python program to calculate the volume of sphere.\n",
    "\n",
    "#Volume of sphere\n",
    "from math import pi\n",
    "r = int(input(\"The radius of the sphere:\"))\n",
    "V = 3/4*pi*r**3\n",
    "print(\"The volume of the sphere is \"+str(V)+\"\")"
   ]
  },
  {
   "cell_type": "code",
   "execution_count": 17,
   "metadata": {},
   "outputs": [
    {
     "name": "stdout",
     "output_type": "stream",
     "text": [
      "Enter your name in uppercase:ABDULLAH\n",
      "Enter your name in lowercase:abdullah\n",
      "Enter your name in titlecase:Abdullah\n",
      "uppercase_namelowercase_nametitlecase_name\n"
     ]
    }
   ],
   "source": [
    "#Program 5 : Write a python program that can write your name in uppercase , lowercase and title case.\n",
    "\n",
    "uppercase_name = input(\"Enter your name in uppercase:\")\n",
    "lowercase_name = input(\"Enter your name in lowercase:\")\n",
    "titlecase_name = input(\"Enter your name in titlecase:\")\n",
    "print(\"uppercase_name\" + \"lowercase_name\" + \"titlecase_name\")"
   ]
  },
  {
   "cell_type": "code",
   "execution_count": null,
   "metadata": {},
   "outputs": [],
   "source": []
  }
 ],
 "metadata": {
  "kernelspec": {
   "display_name": "Python 3",
   "language": "python",
   "name": "python3"
  },
  "language_info": {
   "codemirror_mode": {
    "name": "ipython",
    "version": 3
   },
   "file_extension": ".py",
   "mimetype": "text/x-python",
   "name": "python",
   "nbconvert_exporter": "python",
   "pygments_lexer": "ipython3",
   "version": "3.7.3"
  }
 },
 "nbformat": 4,
 "nbformat_minor": 2
}
